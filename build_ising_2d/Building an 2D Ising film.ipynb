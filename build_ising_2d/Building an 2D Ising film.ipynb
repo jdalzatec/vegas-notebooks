{
 "cells": [
  {
   "cell_type": "markdown",
   "metadata": {},
   "source": [
    "# Building an 2D Ising film"
   ]
  },
  {
   "cell_type": "markdown",
   "metadata": {},
   "source": [
    "Let's build a 2D Ising film with simple cubic structure and periodic boundary conditions.\n",
    "\n",
    "Import the required libraries\n",
    "\n",
    "* [numpy](http://www.numpy.org/) handles numeric arrays and mathematical operations.\n",
    "* [product](https://docs.python.org/3.7/library/itertools.html#itertools.product) returns cartesian product of input iterables.\n",
    "* [matplotlib](https://matplotlib.org/) produces figures.\n",
    "* [defaultdict](https://docs.python.org/3.7/library/collections.html#collections.defaultdict) is a dictionary where each *value* has a defined type."
   ]
  },
  {
   "cell_type": "code",
   "execution_count": 1,
   "metadata": {},
   "outputs": [],
   "source": [
    "import numpy\n",
    "from itertools import product\n",
    "from matplotlib import pyplot\n",
    "from collections import defaultdict"
   ]
  },
  {
   "cell_type": "markdown",
   "metadata": {},
   "source": [
    "Define the edge length of the film (```L```) measured in magnetic unit cells (muc)."
   ]
  },
  {
   "cell_type": "code",
   "execution_count": 2,
   "metadata": {},
   "outputs": [],
   "source": [
    "L = 10"
   ]
  },
  {
   "cell_type": "markdown",
   "metadata": {},
   "source": [
    "Define the spin value (```spin```) and the nearest neighbors exchange interaction constant (```jex```). ```jex = 1.0``` is taken as the unit of energy. Also, define the [update policy](https://pcm-ca.github.io/vegas/spin-update-policies/) for the direction of the magnetic moments. In this case, the spin update policy is an spin flip (```flip```) to recreate the Ising model."
   ]
  },
  {
   "cell_type": "code",
   "execution_count": 3,
   "metadata": {},
   "outputs": [],
   "source": [
    "spin = 1.0\n",
    "kan = 0.0\n",
    "jex = 1.0\n",
    "update_policy = \"flip\""
   ]
  },
  {
   "cell_type": "markdown",
   "metadata": {},
   "source": [
    "Create a list of sites."
   ]
  },
  {
   "cell_type": "code",
   "execution_count": 4,
   "metadata": {},
   "outputs": [],
   "source": [
    "sites = list()\n",
    "for site in product(range(0, L), range(0, L), range(0, 1)):\n",
    "    sites.append(site)"
   ]
  },
  {
   "cell_type": "markdown",
   "metadata": {},
   "source": [
    "Convert the previous list to numpy arrays."
   ]
  },
  {
   "cell_type": "code",
   "execution_count": 5,
   "metadata": {},
   "outputs": [],
   "source": [
    "positions = numpy.array(sites)"
   ]
  },
  {
   "cell_type": "markdown",
   "metadata": {},
   "source": [
    "Generate a 2D plot of the film."
   ]
  },
  {
   "cell_type": "code",
   "execution_count": 6,
   "metadata": {},
   "outputs": [
    {
     "data": {
      "image/png": "[encoded data removed]",
      "text/plain": [
       "<Figure size 576x576 with 1 Axes>"
      ]
     },
     "metadata": {
      "needs_background": "light"
     },
     "output_type": "display_data"
    }
   ],
   "source": [
    "fig = pyplot.figure(figsize=(8, 8))\n",
    "pyplot.scatter(positions[:, 0], positions[:, 1],\n",
    "           s=100, color=\"silver\", edgecolor=\"black\")\n",
    "pyplot.grid()\n",
    "pyplot.xlabel(r\"$x$\", fontsize=20)\n",
    "pyplot.ylabel(r\"$y$\", fontsize=20)\n",
    "pyplot.xlim(-1, L)\n",
    "pyplot.ylim(-1, L)\n",
    "pyplot.gca().set_aspect(\"equal\")\n",
    "pyplot.show()"
   ]
  },
  {
   "cell_type": "markdown",
   "metadata": {},
   "source": [
    "Identify the neighbors of each magnetic moment and store them in a dictionary. Periodic boundary conditions are established. Because all the sites are located in the $xy$ plane, periodic boundary conditions are imposed in the $x$ and $y$ directions, but they are not imposed in the $z$ direction."
   ]
  },
  {
   "cell_type": "code",
   "execution_count": 7,
   "metadata": {},
   "outputs": [],
   "source": [
    "nhbs = defaultdict(list)\n",
    "for site in sites:\n",
    "    x, y, z = site\n",
    "    for dx, dy in [(1.0, 0.0),\n",
    "                   (-1.0, 0.0),\n",
    "                   (0.0, 1.0),\n",
    "                   (0.0, -1.0)]:\n",
    "        nhb = ((x + dx) % L, (y + dy) % L, z)\n",
    "        if nhb in sites:\n",
    "            nhbs[site].append(nhb)"
   ]
  },
  {
   "cell_type": "markdown",
   "metadata": {},
   "source": [
    "Make some verifications: that each site has $4$ neighbors, that the neighbors of each site are $1.0$ muc away, and that each site is in the neighbors list of each of its neighbors. If two sites are neighbors because of the periodic boundary conditions, they are not $1.0$ muc away. However, one of the $9$ replicas must be this distance away."
   ]
  },
  {
   "cell_type": "code",
   "execution_count": 8,
   "metadata": {},
   "outputs": [],
   "source": [
    "for site in sites:\n",
    "    assert len(nhbs[site]) == 4\n",
    "    for nhb in nhbs[site]:\n",
    "        assert site in nhbs[nhb]\n",
    "        \n",
    "        dists = list()\n",
    "        for x in [-L, 0, L]:\n",
    "            for y in [-L, 0, L]:\n",
    "                dists.append(numpy.linalg.norm(numpy.array(site) + (x, y, 0) - numpy.array(nhb)))\n",
    "        assert (9 - numpy.count_nonzero(numpy.array(dists) - 1.0) == 1)"
   ]
  },
  {
   "cell_type": "markdown",
   "metadata": {},
   "source": [
    "Create a dictionary to identify the type of each site, which in this case is ```generic``` for all sites."
   ]
  },
  {
   "cell_type": "code",
   "execution_count": 9,
   "metadata": {},
   "outputs": [],
   "source": [
    "types = dict()\n",
    "for site in sites:\n",
    "    types[site] = \"generic\""
   ]
  },
  {
   "cell_type": "markdown",
   "metadata": {},
   "source": [
    "The external magnetic field is applied along the $+z$ axis."
   ]
  },
  {
   "cell_type": "code",
   "execution_count": 10,
   "metadata": {},
   "outputs": [],
   "source": [
    "field_axis = dict()\n",
    "for site in sites:\n",
    "    field_axis[site] = (0.0, 0.0, 1.0)"
   ]
  },
  {
   "cell_type": "markdown",
   "metadata": {},
   "source": [
    "Count the number of interactions equal to the sum of the neighbors of each site, and the number of sites as the length of the list of the sites."
   ]
  },
  {
   "cell_type": "code",
   "execution_count": 11,
   "metadata": {},
   "outputs": [],
   "source": [
    "num_interactions = 0\n",
    "for site in sites:\n",
    "    num_interactions += len(nhbs[site])\n",
    "num_sites = len(sites)"
   ]
  },
  {
   "cell_type": "markdown",
   "metadata": {},
   "source": [
    "The number of interactions must be equal to the number of sites multiplied by $4$. This is because, due to the periodic boundary conditions, each site has $4$ neighbors."
   ]
  },
  {
   "cell_type": "code",
   "execution_count": 12,
   "metadata": {},
   "outputs": [],
   "source": [
    "assert (num_interactions == (num_sites * 4))"
   ]
  },
  {
   "cell_type": "markdown",
   "metadata": {},
   "source": [
    "Create the file to store the sample."
   ]
  },
  {
   "cell_type": "code",
   "execution_count": 13,
   "metadata": {},
   "outputs": [],
   "source": [
    "sample_file = open(\"sample_L_%s.dat\" % L, mode=\"w\")"
   ]
  },
  {
   "cell_type": "markdown",
   "metadata": {},
   "source": [
    "Write in the first line of ```sample_file``` the number of sites, interactions and types:"
   ]
  },
  {
   "cell_type": "code",
   "execution_count": 14,
   "metadata": {},
   "outputs": [
    {
     "name": "stdout",
     "output_type": "stream",
     "text": [
      "100 400 1\n"
     ]
    }
   ],
   "source": [
    "sample_file.write(\"{} {} {}\\n\".format(num_sites, num_interactions, len(set(types.values()))))\n",
    "print(num_sites, num_interactions, len(set(types.values())))"
   ]
  },
  {
   "cell_type": "markdown",
   "metadata": {},
   "source": [
    "Write the ion types on a different line each one."
   ]
  },
  {
   "cell_type": "code",
   "execution_count": 15,
   "metadata": {},
   "outputs": [
    {
     "name": "stdout",
     "output_type": "stream",
     "text": [
      "generic\n"
     ]
    }
   ],
   "source": [
    "for t in sorted(set(types.values())):\n",
    "    sample_file.write(\"{}\\n\".format(t))\n",
    "    print(t)"
   ]
  },
  {
   "cell_type": "markdown",
   "metadata": {},
   "source": [
    "Write the parameters of each site according to the established [format](https://pcm-ca.github.io/vegas/system-building/)."
   ]
  },
  {
   "cell_type": "code",
   "execution_count": 16,
   "metadata": {},
   "outputs": [],
   "source": [
    "for site in sites:\n",
    "    i = sites.index(site)\n",
    "    t = types[site]\n",
    "    sample_file.write(\"{} {} {} {} {} {} {} {} {} {}\\n\".format(\n",
    "        i, *site, spin, *field_axis[site], t, update_policy))"
   ]
  },
  {
   "cell_type": "markdown",
   "metadata": {},
   "source": [
    "Write the exchange interactions between every pair of neighbors."
   ]
  },
  {
   "cell_type": "code",
   "execution_count": 17,
   "metadata": {},
   "outputs": [],
   "source": [
    "for site in sites:\n",
    "    t = types[site]\n",
    "    for nhb in nhbs[site]:\n",
    "        nhb_t = types[nhb]\n",
    "        sample_file.write(\"{} {} {}\\n\".format(\n",
    "            sites.index(site), sites.index(nhb), jex))"
   ]
  },
  {
   "cell_type": "markdown",
   "metadata": {},
   "source": [
    "Close the file."
   ]
  },
  {
   "cell_type": "code",
   "execution_count": 18,
   "metadata": {},
   "outputs": [],
   "source": [
    "sample_file.close()"
   ]
  },
  {
   "cell_type": "markdown",
   "metadata": {},
   "source": [
    "The result of this script is the creation of one file: ```sample.dat```, which stores the structural properties of the 2D Ising film."
   ]
  }
 ],
 "metadata": {
  "kernelspec": {
   "display_name": "Python 3",
   "language": "python",
   "name": "python3"
  },
  "language_info": {
   "codemirror_mode": {
    "name": "ipython",
    "version": 3
   },
   "file_extension": ".py",
   "mimetype": "text/x-python",
   "name": "python",
   "nbconvert_exporter": "python",
   "pygments_lexer": "ipython3",
   "version": "3.6.9"
  }
 },
 "nbformat": 4,
 "nbformat_minor": 4
}
